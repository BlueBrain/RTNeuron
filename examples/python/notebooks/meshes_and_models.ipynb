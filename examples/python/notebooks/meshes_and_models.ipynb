{
 "metadata": {
  "name": "",
  "signature": "sha256:0484d7808fd27c44e50805a4b68f580e04c40b8a071d281f14030fd29cef314e"
 },
 "nbformat": 3,
 "nbformat_minor": 0,
 "worksheets": [
  {
   "cells": [
    {
     "cell_type": "markdown",
     "metadata": {},
     "source": [
      "This notebook shows how to add objects to a scene which are not part of a circuit, in particular, polygonal meshes created by the user with Python code and models from files.\n",
      "\n",
      "Let's start showing how to load a model from a file into the scene."
     ]
    },
    {
     "cell_type": "code",
     "collapsed": false,
     "input": [
      "import rtneuron\n",
      "import os\n",
      "\n",
      "# Presetting the global variables for the default window size\n",
      "rtneuron.global_attributes.window_width = 600\n",
      "rtneuron.global_attributes.window_height = 600\n",
      "if 'EQ_WINDOW_IATTR_HINT_FULLSCREEN' in os.environ:\n",
      "    del os.environ['EQ_WINDOW_IATTR_HINT_FULLSCREEN']\n",
      "\n",
      "# We start by creating an application instance with an empty scene\n",
      "rtneuron.display_empty_scene()\n",
      "view = rtneuron.engine.views[0]\n",
      "scene = view.scene"
     ],
     "language": "python",
     "metadata": {},
     "outputs": []
    },
    {
     "cell_type": "code",
     "collapsed": false,
     "input": [
      "# The following code creates a temporary .obj file with a cube.\n",
      "# It will be deleted once the kernel is shutdown.\n",
      "import tempfile\n",
      "modelfile = tempfile.NamedTemporaryFile(suffix=\".obj\")\n",
      "modelfile.write(\"\"\"\\\n",
      "v -100.0 -100.0 -100.0\\nv -100.0 -100.0 100.0\\nv -100.0 100.0 -100.0\\nv -100.0 100.0 100.0\n",
      "v 100.0 -100.0 -100.0\\nv 100.0 -100.0 100.0\\nv 100.0 100.0 -100.0\\nv 100.0 100.0 100.0\n",
      "vn 0.0 0.0 1.0\\nvn 0.0 0.0 -1.0\\nvn 0.0 1.0 0.0\\nvn 0.0 -1.0 0.0\\nvn 1.0 0.0 0.0\\nvn -1.0 0.0 0.0\n",
      "f 1//2 7//2 5//2\\nf 1//2 3//2 7//2\\nf 1//6 4//6 3//6\\nf 1//6 2//6 4//6\\nf 3//3 8//3 7//3\\nf 3//3 4//3 8//3\n",
      "f 5//5 7//5 8//5\\nf 5//5 8//5 6//5\\nf 1//4 5//4 6//4\\nf 1//4 6//4 2//4\\nf 2//1 6//1 8//1\\nf 2//1 8//1 4//1\n",
      "\"\"\".encode(\"utf-8\"))\n",
      "modelfile.flush()\n",
      "\n",
      "scene.addModel(modelfile.name)\n",
      "view.camera.setView([-210, 150, 400], ([-0.58413, -0.80526, -0.10175], 35.531))\n",
      "rtneuron.snapshot_to_notebook(view)"
     ],
     "language": "python",
     "metadata": {},
     "outputs": []
    },
    {
     "cell_type": "markdown",
     "metadata": {},
     "source": [
      "The load function has two optional parameters to set a transformation and provide an AttributeMap with extra options. The only valid extra option at the moment is an overall color for the model. This color is only guaranteed to be applied if the model file doesn't provide materials or per vertex colors."
     ]
    },
    {
     "cell_type": "code",
     "collapsed": false,
     "input": [
      "import math\n",
      "for i in range(24):\n",
      "    angle = math.radians(15 * i)\n",
      "    p = [600 * math.cos(angle), 600 * math.sin(angle), 0]\n",
      "    s = 1 + math.cos(angle * 4) * 0.25\n",
      "\n",
      "    # Here we only show the version of addModel that takes a string as argument.\n",
      "    # The transform string can encode a sequence of : separated transformations\n",
      "    # from local to world coordinates. The leftmost transformation is applied first\n",
      "    # See the reference for the second version of addModel that takes a\n",
      "    # transformation matrix.\n",
      "    transform = (\"s@%f,%f,%f:\" % (s, s, s) + # scale sx,sy,sx\n",
      "                 \"r@0,0,1,%f:\" % (15.0 * i) + # rotate x,y,z,angle\n",
      "                 \"t@%f,%f,%f:\" % (p[0], p[1], p[2])) # and translate tx,ty,tz\n",
      "    attributes = rtneuron.AttributeMap()\n",
      "    attributes.color = [abs(math.cos(angle)), abs(math.sin(angle)), 0, 1]\n",
      "    scene.addModel(modelfile.name, transform, attributes=attributes)\n",
      "\n",
      "view.camera.setView([-15, 26, 2850], ([0.0, 0.0, 1.0], 0.0))\n",
      "rtneuron.snapshot_to_notebook(view)"
     ],
     "language": "python",
     "metadata": {},
     "outputs": []
    },
    {
     "cell_type": "code",
     "collapsed": false,
     "input": [
      "# The color of a given model can also be changed after it has been added to the scene\n",
      "for i in range(24):\n",
      "    # Getting the handler to the next cube in the outer circle\n",
      "    o = scene.objects[i + 1]\n",
      "    # And changing the color\n",
      "    o.attributes.color = [i / 30.0, 0, 1 - i / 30.0, 1]\n",
      "    o.update()\n",
      "\n",
      "view.camera.setView([-15, 26, 2850], ([0.0, 0.0, 1.0], 0.0))\n",
      "rtneuron.snapshot_to_notebook(view)"
     ],
     "language": "python",
     "metadata": {},
     "outputs": []
    },
    {
     "cell_type": "markdown",
     "metadata": {},
     "source": [
      "The file formats supported are those for which OpenSceneGraph has plugins, in particular obj, ply, stl and vrml are well supported.\n",
      "Note that adding a model multiple times to a scene creates a full instance of the model each time. Instancing of a single model multiple times is not supported by the API and there are no plans to do so at the moment.\n",
      "\n",
      "The function to add a polygonal mesh to the scene is addMesh. This function cannot take an extra parameter with a transformation. With addMesh it's possible to add triangular meshes and lines sets."
     ]
    },
    {
     "cell_type": "code",
     "collapsed": false,
     "input": [
      "# Clear the scene first\n",
      "scene.clear()\n",
      "\n",
      "# Creating an octahedron\n",
      "l = 200\n",
      "h = math.sqrt(2) * l/2\n",
      "vertices = [[0, h, 0], [-l/2, 0, -l/2], [l/2, 0, -l/2], [l/2, 0, l/2], [-l/2, 0, l/2], [0, -h, 0]]\n",
      "indices = [[0, 1, 2], [0, 2, 3], [0, 3, 4], [0, 4, 1], [5, 2, 1], [5, 3, 2], [5, 4, 3], [5, 1, 4]]\n",
      "colors = [[1, 1, 0, 1], [0, 1, 0, 1], [0, 1, 0, 1], [1, 0, 0, 1], [1, 0, 0, 1.0], [0, 0, 1, 1]]\n",
      "# We are not going to provide per vertex normals, instead we are going to request flat shading.\n",
      "# With flat shading, the model has per facet normals which are computed on-the-fly during rendering.\n",
      "attributes = rtneuron.AttributeMap()\n",
      "attributes.flat = True\n",
      "scene.addMesh(vertices, indices, colors=colors, attributes=attributes)\n",
      "\n",
      "# Now we will add another mesh to paint the edges of the model\n",
      "indices = [[0, 1], [0, 2], [0, 3], [0, 4], [1, 2], [2, 3], [3, 4], [4, 1], [1, 5], [2, 5], [3, 5], [4, 5]]\n",
      "# Colors don't need to be specified by vertex, a single color can also be provided, or no\n",
      "# color at all, which then defaults to white. For lines, the line width can be set using the \n",
      "# attributes map for extra parameters. Per vertex normals are ignored in line primitives, lines are lit\n",
      "# according to their relative position to the screen.\n",
      "attributes = rtneuron.AttributeMap()\n",
      "attributes.line_width = 4\n",
      "import numpy\n",
      "scene.addMesh(numpy.array(vertices), numpy.array(indices), colors=[1, 1, 1, 1], attributes=attributes)\n",
      "# As can be seen addMesh also accepts numpy arrays.\n",
      "\n",
      "view.camera.setView([-313, 37, 180], ([-0.0943, -0.995, -0.0327], 59))\n",
      "rtneuron.snapshot_to_notebook(view)"
     ],
     "language": "python",
     "metadata": {},
     "outputs": []
    },
    {
     "cell_type": "code",
     "collapsed": false,
     "input": [
      "scene.remove(scene.objects[0])\n",
      "view.camera.setView([-313, 37, 180], ([-0.0943, -0.995, -0.0327], 59))\n",
      "rtneuron.snapshot_to_notebook(view)"
     ],
     "language": "python",
     "metadata": {},
     "outputs": []
    }
   ],
   "metadata": {}
  }
 ]
}