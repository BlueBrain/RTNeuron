{
 "metadata": {
  "name": ""
 },
 "nbformat": 3,
 "nbformat_minor": 0,
 "worksheets": [
  {
   "cells": [
    {
     "cell_type": "markdown",
     "metadata": {},
     "source": [
      "We start dispaying the circuit for a full column in soma only mode."
     ]
    },
    {
     "cell_type": "code",
     "collapsed": false,
     "input": [
      "import os\n",
      "import brain\n",
      "import rtneuron\n",
      "home = os.environ['HOME']\n",
      "# Presetting the global variables for the default window size\n",
      "rtneuron.global_attributes.window_width = 500\n",
      "rtneuron.global_attributes.window_height = 1100\n",
      "\n",
      "# Creating the attributes for the neuron set that will be displayed\n",
      "attributes = rtneuron.AttributeMap()\n",
      "attributes.mode = rtneuron.RepresentationMode.SOMA\n",
      "# Displaying the circuit\n",
      "rtneuron.display_circuit(brain.test.circuit_config, ('MiniColumn_[0-9]', attributes))\n",
      "\n",
      "view = rtneuron.engine.views[0]\n",
      "view.attributes.background = [1, 1, 1, 1]\n",
      "view.camera.setView([40, 1000, 2185], ([0.0, 0.0, 1.0], 0.0))\n",
      "# Make sure the camera is not modified after scene modifications.\n",
      "view.attributes.auto_compute_home_position = False\n",
      "\n",
      "scene = view.scene\n",
      "rtneuron.snapshot_to_notebook(view)"
     ],
     "language": "python",
     "metadata": {},
     "outputs": []
    },
    {
     "cell_type": "markdown",
     "metadata": {},
     "source": [
      "Now we pick an arbitrary presynaptic cell and find its set of postsynaptic cells. For this purpose we use the class rtneuron.sceneops.SynapticProjections, which implements several algorithms to find out projections between cells."
     ]
    },
    {
     "cell_type": "code",
     "collapsed": false,
     "input": [
      "projections = rtneuron.sceneops.SynapticProjections(scene\n",
      "                                                    target_mode = rtneuron.RepresentationMode.SOMA)\n",
      "projections.show_retrograde_projections(607)\n",
      "rtneuron.snapshot_to_notebook(view)"
     ],
     "language": "python",
     "metadata": {},
     "outputs": []
    },
    {
     "cell_type": "markdown",
     "metadata": {},
     "source": [
      "To make the connected cells stand out from the rest we are going to enable transparency on the scene. By default SynapticProjections assigns a color with some transparency to non participating cells."
     ]
    },
    {
     "cell_type": "code",
     "collapsed": false,
     "input": [
      "rtneuron.sceneops.enable_transparency(scene)\n",
      "rtneuron.snapshot_to_notebook(view)"
     ],
     "language": "python",
     "metadata": {},
     "outputs": []
    },
    {
     "cell_type": "markdown",
     "metadata": {},
     "source": [
      "In this visualization the presynpatic cells are rendered in blue and in soma only mode, while the postsynaptic cell is rendered in red with its full morphology. It's also possible to render presynaptic cells with their full morphologies, but in this case, there's the option of culling the branches of the cells to show only the paths that connect the presynatic somas to the postsynaptic soma. Actually this is the default operation mode of SynpaticProjection, so we will create a new one using the default parameters."
     ]
    },
    {
     "cell_type": "code",
     "collapsed": false,
     "input": [
      "projections = rtneuron.sceneops.SynapticProjections(scene)\n",
      "projections.show_retrograde_projections(607)\n",
      "rtneuron.snapshot_to_notebook(view)"
     ],
     "language": "python",
     "metadata": {},
     "outputs": []
    },
    {
     "cell_type": "markdown",
     "metadata": {},
     "source": [
      "Finally we will change some of the visual attributes of the presynaptic and posynaptic neurons to emphasize the dendritic tree and the disitribution of axonal processes."
     ]
    },
    {
     "cell_type": "code",
     "collapsed": false,
     "input": [
      "# Make the context cells less visible\n",
      "projections.set_unselected_color([0.5, 0.5, 0.5, 0.01])\n",
      "# And make the post and presynaptic cells thicker.\n",
      "scene.attributes.inflatable_neurons = True\n",
      "view.attributes.inflation_factor = 1"
     ],
     "language": "python",
     "metadata": {},
     "outputs": []
    },
    {
     "cell_type": "markdown",
     "metadata": {},
     "source": [
      "The representation of presynaptic cells can be modified so that the color of the axon is a function of the distance to the soma postsynaptic soma."
     ]
    },
    {
     "cell_type": "code",
     "collapsed": false,
     "input": [
      "attributes = rtneuron.AttributeMap()\n",
      "attributes.color_scheme = rtneuron.ColorScheme.BY_DISTANCE_TO_SOMA\n",
      "attributes.colormaps = rtneuron.AttributeMap()\n",
      "colormap = rtneuron.ColorMap()\n",
      "colormap.setPoints({0: [0.0, 0.0, 1.0, 0.2], 500: [0.0, 1.0, 1.0, 0.2],\n",
      "                    1000: [0, 1.0, 0, 0.2], 1500: [1.0, 1.0, 0, 0.2], 2000: [1.0, 0.0, 1.0, 0.2]})\n",
      "attributes.colormaps.by_distance_to_soma = colormap\n",
      "projections.set_presynaptic_attributes(attributes)\n",
      "rtneuron.snapshot_to_notebook(view)"
     ],
     "language": "python",
     "metadata": {},
     "outputs": []
    },
    {
     "cell_type": "code",
     "collapsed": false,
     "input": [
      "by_distance = rtneuron.ColorMap()\n",
      "by_distance.setPoints({0: [0.0, 0.0, 1.0, 0.2], 500: [0.0, 1.0, 1.0, 0.2],\n",
      "                       1000: [0, 1.0, 0, 0.2], 1500: [1.0, 1.0, 0, 0.2], 2000: [1.0, 0.0, 1.0, 0.2]})\n",
      "view.attributes.inflation_factor = 2\n",
      "view.attributes.lod_bias = 0\n",
      "\n",
      "def color(x, alpha):\n",
      "    c = list(by_distance.getColor(x))\n",
      "    c[3] = alpha\n",
      "    return c\n",
      "\n",
      "t = 51\n",
      "def advance():\n",
      "    global t\n",
      "    colormap.setPoints({0: [0.0, 0.0, 1.0, 0.2], 1: [0.0, 0.0, 0.0, 0],\n",
      "                        t - 50: color(t - 50, 0), t: color(t, 0.4), t + 50: color(t + 50, 0)})\n",
      "    projections.set_presynaptic_attributes(attributes)\n",
      "    t += 50\n",
      "    if t > 2000:\n",
      "        rtneuron.engine.frameIssued.disconnect(advance)\n",
      "\n",
      "rtneuron.engine.frameIssued.connect(advance)\n",
      "rtneuron.engine.frame()"
     ],
     "language": "python",
     "metadata": {},
     "outputs": []
    }
   ],
   "metadata": {}
  }
 ]
}