{
 "metadata": {
  "name": ""
 },
 "nbformat": 3,
 "nbformat_minor": 0,
 "worksheets": [
  {
   "cells": [
    {
     "cell_type": "markdown",
     "metadata": {},
     "source": [
      "We start displaying the 600 center cells of the circuit. Notice that ``display_circuit`` accepts regular expressions."
     ]
    },
    {
     "cell_type": "code",
     "collapsed": false,
     "input": [
      "import rtneuron\n",
      "import brain\n",
      "\n",
      "# Presetting the global variables for the default window size\n",
      "rtneuron.global_attributes.window_width = 800\n",
      "rtneuron.global_attributes.window_height = 1100\n",
      "\n",
      "# Creating the attributes for the neuron set that will be displayed\n",
      "attributes = rtneuron.AttributeMap()\n",
      "attributes.mode = rtneuron.RepresentationMode.SOMA\n",
      "# Displaying the circuit\n",
      "rtneuron.display_circuit(brain.test.blue_config, ('MiniColumn_[0-5]', attributes))\n",
      "\n",
      "view = rtneuron.engine.views[0]\n",
      "view.attributes.background = [0.4, 0.45, 0.5, 1.0]\n",
      "view.camera.setView([60, 760, 1760], ([0.0, 0.0, 1.0], 0.0))\n",
      "# Make sure the camera is not modified after scene modifications.\n",
      "view.attributes.auto_compute_home_position = False\n",
      "\n",
      "scene = view.scene"
     ],
     "language": "python",
     "metadata": {},
     "outputs": []
    },
    {
     "cell_type": "markdown",
     "metadata": {},
     "source": [
      "There are two types of simulation data:\n",
      "* Spike time traces, where each spike is a discrete event defined by a timestamp and a cell identifier.\n",
      "* Reports of continuous scalar variables on the neuron membrane measured, aka compartment reports. These data are reported for a discretization of the morphological skeleton where each piece is called a compartment.\n",
      "\n",
      "\n",
      "At somas it's possible to visualize them as a color shift that is triggered at the spike time and decays gradually to the color used for the inactive state.\n",
      "To apply spike data on the scene there's a helper function that simplifies the process."
     ]
    },
    {
     "cell_type": "code",
     "collapsed": false,
     "input": [
      "# The input parameters can also be a file with spike times (.gdf or BBP .out) and a scene.\n",
      "# When a scene is used, simulation display has to be enabled explicitly on the view.\n",
      "rtneuron.apply_spike_data(rtneuron.simulation, view)\n",
      "player = rtneuron.engine.player\n",
      "player.timestamp = 8\n",
      "rtneuron.snapshot_to_notebook(view)"
     ],
     "language": "python",
     "metadata": {},
     "outputs": []
    },
    {
     "cell_type": "markdown",
     "metadata": {},
     "source": [
      "It's possible to assign a different colormap to different neuron subsets. This allows, for example, to use different colors to highlight spikes of excitatory and inhibitory neurons."
     ]
    },
    {
     "cell_type": "code",
     "collapsed": false,
     "input": [
      "all_neurons = scene.objects[0]\n",
      "\n",
      "def apply_spike_colormap_to_cells(set_name, color):\n",
      "    colormap = rtneuron.ColorMap()\n",
      "    colormap.setPoints({0: [0, 0, 0, 0], 1: color})\n",
      "    subset = all_neurons.query(rtneuron.simulation.gids(set_name))\n",
      "    # Colormaps are assigned into a nested AttributeMap called 'colormaps'.\n",
      "    # This attribute is not defined by default, we have to create it.\n",
      "    subset.attributes.colormaps = rtneuron.AttributeMap()\n",
      "    # The colormap for spike data is called 'spikes'\n",
      "    subset.attributes.colormaps.spikes = colormap\n",
      "    subset.update()\n",
      "    return subset\n",
      "    \n",
      "excitatory = apply_spike_colormap_to_cells('Excitatory', [1, 0, 0, 1])\n",
      "inhibitory = apply_spike_colormap_to_cells('Inhibitory', [0, 0.5, 1, 1])\n",
      "\n",
      "rtneuron.sceneops.enable_transparency(scene)\n",
      "rtneuron.snapshot_to_notebook(view)"
     ],
     "language": "python",
     "metadata": {},
     "outputs": []
    },
    {
     "cell_type": "markdown",
     "metadata": {},
     "source": [
      "Simulation playback can be controlled from the *engine.player* object."
     ]
    },
    {
     "cell_type": "code",
     "collapsed": false,
     "input": [
      "player.timestamp = player.window[0]\n",
      "view.attributes.spike_tail = 10\n",
      "player.simulationDelta = 0.5\n",
      "player.play()"
     ],
     "language": "python",
     "metadata": {},
     "outputs": []
    },
    {
     "cell_type": "markdown",
     "metadata": {},
     "source": [
      "Another helper functions simplifies the process of applying a compartment report to the scene. For somas, if both spike and compartment data have been applied, compartment data takes precedence."
     ]
    },
    {
     "cell_type": "code",
     "collapsed": false,
     "input": [
      "player.pause()\n",
      "rtneuron.apply_compartment_report(rtneuron.simulation, view, 'voltage')\n",
      "player.timestamp = 7.6\n",
      "rtneuron.snapshot_to_notebook(view)"
     ],
     "language": "python",
     "metadata": {},
     "outputs": []
    },
    {
     "cell_type": "markdown",
     "metadata": {},
     "source": [
      "At any moment we can change the representation mode of some neurons to use detailed morphologies. We will do it for the center minicolumn."
     ]
    },
    {
     "cell_type": "code",
     "collapsed": false,
     "input": [
      "minicolumn = all_neurons.query(rtneuron.simulation.gids('L5CSPC'))\n",
      "minicolumn.attributes.mode = rtneuron.RepresentationMode.WHOLE_NEURON\n",
      "minicolumn.update()\n",
      "# When spike data has been provided, the axon shows the propagation of the action potentials using a\n",
      "# constant (hardcoded) speed. Since the spike fall-off time (spike_tail view attribute) was modified\n",
      "# before, we set here a more reasonable value.\n",
      "view.attributes.spike_tail = 1\n",
      "player.timestamp = 10\n",
      "rtneuron.snapshot_to_notebook(view)"
     ],
     "language": "python",
     "metadata": {},
     "outputs": []
    },
    {
     "cell_type": "markdown",
     "metadata": {},
     "source": [
      "Colormaps for compartment data can also be applied on a circuit subset basis. The following code takes the default colormap and converts it to a black & white colormap for the soma only neurons"
     ]
    },
    {
     "cell_type": "code",
     "collapsed": false,
     "input": [
      "def to_grayscale(color, alpha_factor):\n",
      "    v = 0.21 * color[0] + 0.72 * color[1] + 0.07 * color[2]\n",
      "    return (v, v, v, color[3] * alpha_factor)\n",
      "    \n",
      "global_colormap = view.attributes.colormaps.compartments\n",
      "\n",
      "original = rtneuron.ColorMap()\n",
      "original.setPoints(global_colormap.getPoints())\n",
      "\n",
      "points = {value: to_grayscale(color, 0.3)\n",
      "          for value, color in original.getPoints().items()}\n",
      "\n",
      "global_colormap.setPoints(points)\n",
      "\n",
      "minicolumn.attributes.colormaps = rtneuron.AttributeMap()\n",
      "minicolumn.attributes.colormaps.compartments = original\n",
      "minicolumn.update()\n",
      "rtneuron.snapshot_to_notebook(view)"
     ],
     "language": "python",
     "metadata": {},
     "outputs": []
    },
    {
     "cell_type": "markdown",
     "metadata": {},
     "source": [
      "The alpha channel of the colors can be modulated by the static coloring scheme. At the moment the only possible modification is its multiplication by the alpha channel defined by the static coloring."
     ]
    },
    {
     "cell_type": "code",
     "collapsed": false,
     "input": [
      "import math\n",
      "\n",
      "minicolumn.attributes.color_scheme = rtneuron.ColorScheme.BY_WIDTH\n",
      "colormap = rtneuron.ColorMap()\n",
      "# The actual colors aren't important is the alpha channel what matters\n",
      "def width(i):\n",
      "    return 80 * i / 49.0\n",
      "points = {width(i): [1, 1, 1, 1 - math.exp(-width(i) * 1/10.0)] for i in range(50)}\n",
      "colormap.setPoints(points)\n",
      "minicolumn.attributes.mode = rtneuron.RepresentationMode.NO_AXON\n",
      "minicolumn.attributes.colormaps.by_width = colormap\n",
      "minicolumn.update()\n",
      "player.timestamp = 6\n",
      "rtneuron.snapshot_to_notebook(view)"
     ],
     "language": "python",
     "metadata": {},
     "outputs": []
    },
    {
     "cell_type": "code",
     "collapsed": false,
     "input": [
      "player.timestamp = player.window[0]\n",
      "player.play()"
     ],
     "language": "python",
     "metadata": {},
     "outputs": []
    },
    {
     "cell_type": "code",
     "collapsed": false,
     "input": [
      "player.pause()"
     ],
     "language": "python",
     "metadata": {},
     "outputs": []
    }
   ],
   "metadata": {}
  }
 ]
}